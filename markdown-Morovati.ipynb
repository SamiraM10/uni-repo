{
 "cells": [
  {
   "cell_type": "code",
   "execution_count": 2,
   "id": "6e83e1c0",
   "metadata": {},
   "outputs": [
    {
     "ename": "SyntaxError",
     "evalue": "invalid syntax (Temp/ipykernel_4344/1268001715.py, line 3)",
     "output_type": "error",
     "traceback": [
      "\u001b[1;36m  File \u001b[1;32m\"C:\\Users\\TAKTOP~1\\AppData\\Local\\Temp/ipykernel_4344/1268001715.py\"\u001b[1;36m, line \u001b[1;32m3\u001b[0m\n\u001b[1;33m    this is some plain text that forms a paragraph.Add emphasis via**bold**and _bold_,or*italic*and_italic_.\u001b[0m\n\u001b[1;37m                 ^\u001b[0m\n\u001b[1;31mSyntaxError\u001b[0m\u001b[1;31m:\u001b[0m invalid syntax\n"
     ]
    }
   ],
   "source": [
    "#this is a level 1 healing\n",
    "##this is a level 2 healing\n",
    "this is some plain text that forms a paragraph.Add emphasis via**bold**and _bold_,or*italic*and_italic_.\n",
    "paragraphs must be separated by an empty line.\n",
    "*Sometimes we want to include lists.\n",
    "*Which can be bulleted using asterisks.\n",
    "1.Lists can also be numbered.\n",
    "2.If we want an ordered list.\n",
    "\n",
    "[It is possible to include hyperlinks](https://www.example.com)\n",
    "Inline code uses single backticks:'foo()',and code blocks use triple backticks:\n",
    " '''       \n",
    " bar()\n",
    " '''\n",
    "\n",
    "or can be indented by 4 space:\n",
    "    \n",
    "    foo()\n",
    "\n",
    "    And finally,addhng images is easy: ![Alt text](https://www.example.com/image.jpg) \n",
    "        \n",
    "\n"
   ]
  },
  {
   "cell_type": "code",
   "execution_count": null,
   "id": "e581f36d",
   "metadata": {},
   "outputs": [],
   "source": []
  }
 ],
 "metadata": {
  "kernelspec": {
   "display_name": "Python 3 (ipykernel)",
   "language": "python",
   "name": "python3"
  },
  "language_info": {
   "codemirror_mode": {
    "name": "ipython",
    "version": 3
   },
   "file_extension": ".py",
   "mimetype": "text/x-python",
   "name": "python",
   "nbconvert_exporter": "python",
   "pygments_lexer": "ipython3",
   "version": "3.9.7"
  }
 },
 "nbformat": 4,
 "nbformat_minor": 5
}
